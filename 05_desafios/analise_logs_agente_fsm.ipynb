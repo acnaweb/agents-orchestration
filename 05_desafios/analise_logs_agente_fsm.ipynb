{
 "cells": [
  {
   "cell_type": "markdown",
   "id": "766c51f1",
   "metadata": {},
   "source": [
    "# 📊 Análise Exploratória dos Logs do Agente FSM"
   ]
  },
  {
   "cell_type": "code",
   "execution_count": null,
   "id": "17261006",
   "metadata": {},
   "outputs": [],
   "source": [
    "\n",
    "import pandas as pd\n",
    "import json\n",
    "import matplotlib.pyplot as plt\n",
    "\n",
    "with open(\"log_agente.json\") as f:\n",
    "    data = json.load(f)\n",
    "\n",
    "df = pd.DataFrame(data)\n",
    "df.head()\n"
   ]
  },
  {
   "cell_type": "markdown",
   "id": "aff66687",
   "metadata": {},
   "source": [
    "## 📈 Estatísticas de Energia e Estados"
   ]
  },
  {
   "cell_type": "code",
   "execution_count": null,
   "id": "73749bd0",
   "metadata": {},
   "outputs": [],
   "source": [
    "\n",
    "print(\"Energia mínima:\", df['nova_energia'].min())\n",
    "print(\"Energia máxima:\", df['nova_energia'].max())\n",
    "print(\"Transições de estados:\")\n",
    "print(df['novo_estado'].value_counts())\n"
   ]
  },
  {
   "cell_type": "markdown",
   "id": "70ea1658",
   "metadata": {},
   "source": [
    "## 📊 Gráficos de Energia e Estados"
   ]
  },
  {
   "cell_type": "code",
   "execution_count": null,
   "id": "d1e2db73",
   "metadata": {},
   "outputs": [],
   "source": [
    "\n",
    "df['nova_energia'].plot(title=\"Energia por Ciclo\", figsize=(10,4))\n",
    "plt.xlabel(\"Ciclo\")\n",
    "plt.ylabel(\"Energia\")\n",
    "plt.grid(True)\n",
    "plt.show()\n"
   ]
  },
  {
   "cell_type": "code",
   "execution_count": null,
   "id": "5297eea0",
   "metadata": {},
   "outputs": [],
   "source": [
    "\n",
    "df['novo_estado'].value_counts().plot(kind=\"bar\", title=\"Distribuição de Estados\", figsize=(6,4))\n",
    "plt.ylabel(\"Frequência\")\n",
    "plt.grid(True)\n",
    "plt.show()\n"
   ]
  }
 ],
 "metadata": {},
 "nbformat": 4,
 "nbformat_minor": 5
}
